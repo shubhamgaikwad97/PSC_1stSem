{
 "cells": [
  {
   "cell_type": "code",
   "execution_count": 6,
   "id": "eac7e039-e186-47d6-bc25-ddfe0d1116a3",
   "metadata": {},
   "outputs": [],
   "source": [
    "name = \"Shubham Gaikwad\""
   ]
  },
  {
   "cell_type": "code",
   "execution_count": 7,
   "id": "9baad930-e284-45c3-93ee-aad582d223d3",
   "metadata": {},
   "outputs": [
    {
     "data": {
      "text/plain": [
       "'Shubham Gaikwad'"
      ]
     },
     "execution_count": 7,
     "metadata": {},
     "output_type": "execute_result"
    }
   ],
   "source": [
    "name"
   ]
  },
  {
   "cell_type": "code",
   "execution_count": 8,
   "id": "c96477df-57d4-4c0d-a403-3813efa4af41",
   "metadata": {},
   "outputs": [
    {
     "data": {
      "text/plain": [
       "'SHUBHAM GAIKWAD'"
      ]
     },
     "execution_count": 8,
     "metadata": {},
     "output_type": "execute_result"
    }
   ],
   "source": [
    "name.upper()"
   ]
  },
  {
   "cell_type": "code",
   "execution_count": 9,
   "id": "1ccc9eb6-95c7-472f-8fac-a2471804c37c",
   "metadata": {},
   "outputs": [],
   "source": [
    "name = name.upper()"
   ]
  },
  {
   "cell_type": "code",
   "execution_count": 10,
   "id": "069f1a34-458b-42be-aba8-a324716ed583",
   "metadata": {},
   "outputs": [
    {
     "data": {
      "text/plain": [
       "'SHUBHAM GAIKWAD'"
      ]
     },
     "execution_count": 10,
     "metadata": {},
     "output_type": "execute_result"
    }
   ],
   "source": [
    "name"
   ]
  },
  {
   "cell_type": "code",
   "execution_count": 11,
   "id": "36d6b6a1-ddd8-46f4-8652-df9c12cf1397",
   "metadata": {},
   "outputs": [
    {
     "data": {
      "text/plain": [
       "'shubham gaikwad'"
      ]
     },
     "execution_count": 11,
     "metadata": {},
     "output_type": "execute_result"
    }
   ],
   "source": [
    "name.lower()"
   ]
  },
  {
   "cell_type": "code",
   "execution_count": 12,
   "id": "b72f78b8-5f57-47ca-9154-351234addbec",
   "metadata": {},
   "outputs": [],
   "source": [
    "name1= \"SHuBhAm GaiKWad\""
   ]
  },
  {
   "cell_type": "code",
   "execution_count": 17,
   "id": "9de73403-7648-43fb-8229-f3b9279f827c",
   "metadata": {},
   "outputs": [
    {
     "data": {
      "text/plain": [
       "'shUbHaM gAIkwAD'"
      ]
     },
     "execution_count": 17,
     "metadata": {},
     "output_type": "execute_result"
    }
   ],
   "source": [
    "name1.swapcase()"
   ]
  },
  {
   "cell_type": "code",
   "execution_count": 18,
   "id": "3a600b9d-a5af-4db1-8f57-c39c76b59dae",
   "metadata": {},
   "outputs": [],
   "source": [
    "name =\"          vijaylaxmi       Gurav      \""
   ]
  },
  {
   "cell_type": "code",
   "execution_count": 20,
   "id": "2d30825e-50dc-489a-a3bc-23fa2278844a",
   "metadata": {},
   "outputs": [
    {
     "data": {
      "text/plain": [
       "'          vijaylaxmi       Gurav      '"
      ]
     },
     "execution_count": 20,
     "metadata": {},
     "output_type": "execute_result"
    }
   ],
   "source": [
    "name"
   ]
  },
  {
   "cell_type": "code",
   "execution_count": 21,
   "id": "08058725-01f1-45f8-b21e-2d2b4503ee0b",
   "metadata": {},
   "outputs": [
    {
     "data": {
      "text/plain": [
       "'vijaylaxmi       Gurav      '"
      ]
     },
     "execution_count": 21,
     "metadata": {},
     "output_type": "execute_result"
    }
   ],
   "source": [
    "name.lstrip()"
   ]
  },
  {
   "cell_type": "code",
   "execution_count": 22,
   "id": "967f706e-65d2-4d4a-8bcd-b084ee6ea9f2",
   "metadata": {},
   "outputs": [
    {
     "data": {
      "text/plain": [
       "'          vijaylaxmi       Gurav'"
      ]
     },
     "execution_count": 22,
     "metadata": {},
     "output_type": "execute_result"
    }
   ],
   "source": [
    "name.rstrip()"
   ]
  },
  {
   "cell_type": "code",
   "execution_count": 25,
   "id": "d7174975-53c6-4943-a0cd-d26d69782c6b",
   "metadata": {},
   "outputs": [],
   "source": [
    "name4=\"Shubham Gaikwad\""
   ]
  },
  {
   "cell_type": "code",
   "execution_count": 26,
   "id": "b1264828-9dfa-421a-aa07-1f701d785f12",
   "metadata": {},
   "outputs": [
    {
     "data": {
      "text/plain": [
       "'Shubham Gaikwad'"
      ]
     },
     "execution_count": 26,
     "metadata": {},
     "output_type": "execute_result"
    }
   ],
   "source": [
    "name4"
   ]
  },
  {
   "cell_type": "code",
   "execution_count": 31,
   "id": "437f8497-ee3e-4777-8246-8579b633935b",
   "metadata": {},
   "outputs": [
    {
     "data": {
      "text/plain": [
       "'*****************Shubham Gaikwad******************'"
      ]
     },
     "execution_count": 31,
     "metadata": {},
     "output_type": "execute_result"
    }
   ],
   "source": [
    "name4.center(50,'*')"
   ]
  },
  {
   "cell_type": "markdown",
   "id": "7a627da3-9ee0-4f08-a38d-f80c63cbcee8",
   "metadata": {},
   "source": [
    "name4"
   ]
  }
 ],
 "metadata": {
  "kernelspec": {
   "display_name": "Python 3 (ipykernel)",
   "language": "python",
   "name": "python3"
  },
  "language_info": {
   "codemirror_mode": {
    "name": "ipython",
    "version": 3
   },
   "file_extension": ".py",
   "mimetype": "text/x-python",
   "name": "python",
   "nbconvert_exporter": "python",
   "pygments_lexer": "ipython3",
   "version": "3.12.4"
  }
 },
 "nbformat": 4,
 "nbformat_minor": 5
}
